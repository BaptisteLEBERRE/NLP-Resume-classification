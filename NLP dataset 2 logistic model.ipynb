{
 "cells": [
  {
   "cell_type": "code",
   "execution_count": 1,
   "metadata": {},
   "outputs": [],
   "source": [
    "import pandas as pd\n",
    "from sklearn.model_selection import train_test_split\n",
    "from sklearn.feature_extraction.text import CountVectorizer\n",
    "from sklearn.linear_model import LogisticRegression\n",
    "from sklearn import metrics\n",
    "import numpy as np\n",
    "from bs4 import BeautifulSoup\n",
    "import nltk\n",
    "import re"
   ]
  },
  {
   "cell_type": "code",
   "execution_count": 2,
   "metadata": {},
   "outputs": [
    {
     "data": {
      "text/html": [
       "<div>\n",
       "<style scoped>\n",
       "    .dataframe tbody tr th:only-of-type {\n",
       "        vertical-align: middle;\n",
       "    }\n",
       "\n",
       "    .dataframe tbody tr th {\n",
       "        vertical-align: top;\n",
       "    }\n",
       "\n",
       "    .dataframe thead th {\n",
       "        text-align: right;\n",
       "    }\n",
       "</style>\n",
       "<table border=\"1\" class=\"dataframe\">\n",
       "  <thead>\n",
       "    <tr style=\"text-align: right;\">\n",
       "      <th></th>\n",
       "      <th>Unnamed: 0</th>\n",
       "      <th>Resume</th>\n",
       "      <th>Category</th>\n",
       "      <th>Length</th>\n",
       "    </tr>\n",
       "  </thead>\n",
       "  <tbody>\n",
       "    <tr>\n",
       "      <th>0</th>\n",
       "      <td>0</td>\n",
       "      <td>HAO  LONG 22  Jalan Membina #04 - 70 Singapore...</td>\n",
       "      <td>Investment</td>\n",
       "      <td>3984</td>\n",
       "    </tr>\n",
       "    <tr>\n",
       "      <th>1</th>\n",
       "      <td>1</td>\n",
       "      <td>Koh Shi Yun Yvonne                            ...</td>\n",
       "      <td>Fund Accounting</td>\n",
       "      <td>7371</td>\n",
       "    </tr>\n",
       "    <tr>\n",
       "      <th>2</th>\n",
       "      <td>2</td>\n",
       "      <td>Lucas Tan | hp: +65 91012795 | e - mail: lucas...</td>\n",
       "      <td>Investment</td>\n",
       "      <td>5083</td>\n",
       "    </tr>\n",
       "    <tr>\n",
       "      <th>3</th>\n",
       "      <td>3</td>\n",
       "      <td>A pt  B lk  231 Yishun S t reet  21 #06 - 414 ...</td>\n",
       "      <td>Cosec</td>\n",
       "      <td>3992</td>\n",
       "    </tr>\n",
       "    <tr>\n",
       "      <th>4</th>\n",
       "      <td>4</td>\n",
       "      <td>Page  1 of  2 !!\"#$%&amp;'()\" *(+,- (!\"#$%&amp;\"'%())*...</td>\n",
       "      <td>Investment</td>\n",
       "      <td>4780</td>\n",
       "    </tr>\n",
       "  </tbody>\n",
       "</table>\n",
       "</div>"
      ],
      "text/plain": [
       "   Unnamed: 0                                             Resume  \\\n",
       "0           0  HAO  LONG 22  Jalan Membina #04 - 70 Singapore...   \n",
       "1           1  Koh Shi Yun Yvonne                            ...   \n",
       "2           2  Lucas Tan | hp: +65 91012795 | e - mail: lucas...   \n",
       "3           3  A pt  B lk  231 Yishun S t reet  21 #06 - 414 ...   \n",
       "4           4  Page  1 of  2 !!\"#$%&'()\" *(+,- (!\"#$%&\"'%())*...   \n",
       "\n",
       "          Category  Length  \n",
       "0       Investment    3984  \n",
       "1  Fund Accounting    7371  \n",
       "2       Investment    5083  \n",
       "3            Cosec    3992  \n",
       "4       Investment    4780  "
      ]
     },
     "execution_count": 2,
     "metadata": {},
     "output_type": "execute_result"
    }
   ],
   "source": [
    "data = pd.read_csv(\"Original_Resumes.csv\", sep=\";\")\n",
    "\n",
    "data.head()"
   ]
  },
  {
   "cell_type": "code",
   "execution_count": 3,
   "metadata": {},
   "outputs": [],
   "source": [
    "data = data.drop(columns=[\"Unnamed: 0\"])"
   ]
  },
  {
   "cell_type": "code",
   "execution_count": 4,
   "metadata": {},
   "outputs": [
    {
     "data": {
      "text/plain": [
       "Fund Accounting       188\n",
       "Investment            126\n",
       "Cosec                 113\n",
       "Corp Accounting        97\n",
       "Operations             95\n",
       "Sales                  90\n",
       "Trust                  46\n",
       "Compliance             36\n",
       "Administration         31\n",
       "Legal                  28\n",
       "Investor Relations     11\n",
       "Strategy                6\n",
       "Audit                   4\n",
       "Name: Category, dtype: int64"
      ]
     },
     "execution_count": 4,
     "metadata": {},
     "output_type": "execute_result"
    }
   ],
   "source": [
    "data[\"Category\"].value_counts()"
   ]
  },
  {
   "cell_type": "code",
   "execution_count": 5,
   "metadata": {},
   "outputs": [],
   "source": [
    "def bs(sentence):\n",
    "    #BeautifulSoup\n",
    "    sentence = BeautifulSoup(sentence, \"html.parser\").get_text(separator=' ')\n",
    "    #Suppression des caractères spéciaux\n",
    "    sentence = re.sub('[^A-Za-z]+', \" \", sentence)\n",
    "    #Minuscules\n",
    "    sentence = sentence.lower()\n",
    "    \n",
    "    return sentence"
   ]
  },
  {
   "cell_type": "code",
   "execution_count": 6,
   "metadata": {},
   "outputs": [],
   "source": [
    "def bs_token(table, column_start, column_end):\n",
    "    list_line = list()\n",
    "    \n",
    "    for line in table[column_start]:\n",
    "        #Suppression de la ponctuation\n",
    "        line = re.sub(r'(?<=[.,])(?=[^\\s])', r' ', line)\n",
    "        #BeautifulSoup\n",
    "        line = bs(line)\n",
    "        #Ajout en liste\n",
    "        list_line.append(line)\n",
    "            \n",
    "    #Nouvelle colonne\n",
    "    table[column_end] = list_line"
   ]
  },
  {
   "cell_type": "code",
   "execution_count": 7,
   "metadata": {},
   "outputs": [],
   "source": [
    "bs_token(data, \"Resume\", \"Resume1\")"
   ]
  },
  {
   "cell_type": "code",
   "execution_count": 8,
   "metadata": {},
   "outputs": [
    {
     "data": {
      "text/html": [
       "<div>\n",
       "<style scoped>\n",
       "    .dataframe tbody tr th:only-of-type {\n",
       "        vertical-align: middle;\n",
       "    }\n",
       "\n",
       "    .dataframe tbody tr th {\n",
       "        vertical-align: top;\n",
       "    }\n",
       "\n",
       "    .dataframe thead th {\n",
       "        text-align: right;\n",
       "    }\n",
       "</style>\n",
       "<table border=\"1\" class=\"dataframe\">\n",
       "  <thead>\n",
       "    <tr style=\"text-align: right;\">\n",
       "      <th></th>\n",
       "      <th>Resume</th>\n",
       "      <th>Category</th>\n",
       "      <th>Length</th>\n",
       "      <th>Resume1</th>\n",
       "    </tr>\n",
       "  </thead>\n",
       "  <tbody>\n",
       "    <tr>\n",
       "      <th>0</th>\n",
       "      <td>HAO  LONG 22  Jalan Membina #04 - 70 Singapore...</td>\n",
       "      <td>Investment</td>\n",
       "      <td>3984</td>\n",
       "      <td>hao long jalan membina singapore language nati...</td>\n",
       "    </tr>\n",
       "    <tr>\n",
       "      <th>1</th>\n",
       "      <td>Koh Shi Yun Yvonne                            ...</td>\n",
       "      <td>Fund Accounting</td>\n",
       "      <td>7371</td>\n",
       "      <td>koh shi yun yvonne block pasir ris street sing...</td>\n",
       "    </tr>\n",
       "    <tr>\n",
       "      <th>2</th>\n",
       "      <td>Lucas Tan | hp: +65 91012795 | e - mail: lucas...</td>\n",
       "      <td>Investment</td>\n",
       "      <td>5083</td>\n",
       "      <td>lucas tan hp e mail lucastan gmail com singapo...</td>\n",
       "    </tr>\n",
       "    <tr>\n",
       "      <th>3</th>\n",
       "      <td>A pt  B lk  231 Yishun S t reet  21 #06 - 414 ...</td>\n",
       "      <td>Cosec</td>\n",
       "      <td>3992</td>\n",
       "      <td>a pt b lk yishun s t reet mobile phone singapo...</td>\n",
       "    </tr>\n",
       "    <tr>\n",
       "      <th>4</th>\n",
       "      <td>Page  1 of  2 !!\"#$%&amp;'()\" *(+,- (!\"#$%&amp;\"'%())*...</td>\n",
       "      <td>Investment</td>\n",
       "      <td>4780</td>\n",
       "      <td>page of a b c g df f h cdf d d e f g a h a e g...</td>\n",
       "    </tr>\n",
       "    <tr>\n",
       "      <th>...</th>\n",
       "      <td>...</td>\n",
       "      <td>...</td>\n",
       "      <td>...</td>\n",
       "      <td>...</td>\n",
       "    </tr>\n",
       "    <tr>\n",
       "      <th>866</th>\n",
       "      <td>VANESSA  YEUNG  ! Cell:  852-5696-3332 ! E-mai...</td>\n",
       "      <td>Corp Accounting</td>\n",
       "      <td>5168</td>\n",
       "      <td>vanessa yeung cell e mail vanessa yeung gmail ...</td>\n",
       "    </tr>\n",
       "    <tr>\n",
       "      <th>867</th>\n",
       "      <td>YOU RUHUI, CELINE !+65  9108 3549  !  cyruhui@...</td>\n",
       "      <td>Fund Accounting</td>\n",
       "      <td>7432</td>\n",
       "      <td>you ruhui celine cyruhui gmail com professiona...</td>\n",
       "    </tr>\n",
       "    <tr>\n",
       "      <th>868</th>\n",
       "      <td>Name :  WONG HANG YEE, Albee   Address :   Fla...</td>\n",
       "      <td>Cosec</td>\n",
       "      <td>2424</td>\n",
       "      <td>name wong hang yee albee address flat yat chi ...</td>\n",
       "    </tr>\n",
       "    <tr>\n",
       "      <th>869</th>\n",
       "      <td>Curriculum Vitae   NICHOLAS K S CHUANG  DEMIC ...</td>\n",
       "      <td>Fund Accounting</td>\n",
       "      <td>7115</td>\n",
       "      <td>curriculum vitae nicholas k s chuang demic qua...</td>\n",
       "    </tr>\n",
       "    <tr>\n",
       "      <th>870</th>\n",
       "      <td>Felyna  Lee   Hui Chay, CFA   R NF Rep. No. : ...</td>\n",
       "      <td>Compliance</td>\n",
       "      <td>11350</td>\n",
       "      <td>felyna lee hui chay cfa r nf rep no lhc felyna...</td>\n",
       "    </tr>\n",
       "  </tbody>\n",
       "</table>\n",
       "<p>871 rows × 4 columns</p>\n",
       "</div>"
      ],
      "text/plain": [
       "                                                Resume         Category  \\\n",
       "0    HAO  LONG 22  Jalan Membina #04 - 70 Singapore...       Investment   \n",
       "1    Koh Shi Yun Yvonne                            ...  Fund Accounting   \n",
       "2    Lucas Tan | hp: +65 91012795 | e - mail: lucas...       Investment   \n",
       "3    A pt  B lk  231 Yishun S t reet  21 #06 - 414 ...            Cosec   \n",
       "4    Page  1 of  2 !!\"#$%&'()\" *(+,- (!\"#$%&\"'%())*...       Investment   \n",
       "..                                                 ...              ...   \n",
       "866  VANESSA  YEUNG  ! Cell:  852-5696-3332 ! E-mai...  Corp Accounting   \n",
       "867  YOU RUHUI, CELINE !+65  9108 3549  !  cyruhui@...  Fund Accounting   \n",
       "868  Name :  WONG HANG YEE, Albee   Address :   Fla...            Cosec   \n",
       "869  Curriculum Vitae   NICHOLAS K S CHUANG  DEMIC ...  Fund Accounting   \n",
       "870  Felyna  Lee   Hui Chay, CFA   R NF Rep. No. : ...       Compliance   \n",
       "\n",
       "     Length                                            Resume1  \n",
       "0      3984  hao long jalan membina singapore language nati...  \n",
       "1      7371  koh shi yun yvonne block pasir ris street sing...  \n",
       "2      5083  lucas tan hp e mail lucastan gmail com singapo...  \n",
       "3      3992  a pt b lk yishun s t reet mobile phone singapo...  \n",
       "4      4780  page of a b c g df f h cdf d d e f g a h a e g...  \n",
       "..      ...                                                ...  \n",
       "866    5168  vanessa yeung cell e mail vanessa yeung gmail ...  \n",
       "867    7432  you ruhui celine cyruhui gmail com professiona...  \n",
       "868    2424  name wong hang yee albee address flat yat chi ...  \n",
       "869    7115  curriculum vitae nicholas k s chuang demic qua...  \n",
       "870   11350  felyna lee hui chay cfa r nf rep no lhc felyna...  \n",
       "\n",
       "[871 rows x 4 columns]"
      ]
     },
     "execution_count": 8,
     "metadata": {},
     "output_type": "execute_result"
    }
   ],
   "source": [
    "data"
   ]
  },
  {
   "cell_type": "code",
   "execution_count": 9,
   "metadata": {},
   "outputs": [],
   "source": [
    "ntrain, ntest = train_test_split(data, test_size=0.2)"
   ]
  },
  {
   "cell_type": "code",
   "execution_count": 10,
   "metadata": {},
   "outputs": [],
   "source": [
    "vectorizer = CountVectorizer(stop_words='english', min_df=10)\n",
    "Xtrain = vectorizer.fit_transform(ntrain.Resume1)"
   ]
  },
  {
   "cell_type": "code",
   "execution_count": 11,
   "metadata": {},
   "outputs": [],
   "source": [
    "Xtrain_array = Xtrain.toarray()"
   ]
  },
  {
   "cell_type": "code",
   "execution_count": 12,
   "metadata": {},
   "outputs": [],
   "source": [
    "clf = LogisticRegression(random_state=0, max_iter=2000).fit(Xtrain_array, ntrain.Category)"
   ]
  },
  {
   "cell_type": "code",
   "execution_count": 13,
   "metadata": {},
   "outputs": [],
   "source": [
    "Xtest = vectorizer.transform(ntest.Resume1)\n",
    "Xtest_array = Xtest.toarray()"
   ]
  },
  {
   "cell_type": "code",
   "execution_count": 14,
   "metadata": {},
   "outputs": [],
   "source": [
    "y_pred = clf.predict(Xtest_array)"
   ]
  },
  {
   "cell_type": "code",
   "execution_count": 15,
   "metadata": {},
   "outputs": [
    {
     "name": "stdout",
     "output_type": "stream",
     "text": [
      "Fund Accounting == Fund Accounting\n",
      "Fund Accounting == Fund Accounting\n",
      "Fund Accounting == Fund Accounting\n",
      "Corp Accounting == Corp Accounting\n",
      "Sales == Sales\n",
      "Trust == Trust\n",
      "Cosec == Cosec\n",
      "Cosec == Cosec\n",
      "Investment == Investment\n",
      "Investment == Investment\n",
      "Fund Accounting == Fund Accounting\n",
      "Investment == Investment\n",
      "Cosec == Cosec\n",
      "Corp Accounting == Corp Accounting\n",
      "Sales == Sales\n",
      "Cosec == Cosec\n",
      "Investment == Investment\n",
      "Cosec == Cosec\n",
      "Sales == Sales\n",
      "Administration == Administration\n",
      "Corp Accounting == Corp Accounting\n",
      "Corp Accounting == Corp Accounting\n",
      "Operations == Operations\n",
      "Cosec == Cosec\n",
      "Administration == Administration\n",
      "Cosec == Cosec\n",
      "Investment == Investment\n",
      "Cosec == Cosec\n",
      "Cosec == Cosec\n",
      "Fund Accounting == Fund Accounting\n",
      "Cosec == Cosec\n",
      "Trust == Trust\n",
      "Investment == Investment\n",
      "Sales == Sales\n",
      "Investment == Investment\n",
      "Cosec == Cosec\n",
      "Corp Accounting == Corp Accounting\n",
      "Fund Accounting == Fund Accounting\n",
      "Fund Accounting == Fund Accounting\n",
      "Fund Accounting == Fund Accounting\n",
      "Cosec == Cosec\n",
      "Corp Accounting == Corp Accounting\n",
      "Fund Accounting == Fund Accounting\n",
      "Fund Accounting == Fund Accounting\n",
      "Cosec == Cosec\n",
      "Sales == Sales\n",
      "Trust == Trust\n",
      "Corp Accounting == Corp Accounting\n",
      "Cosec == Cosec\n",
      "Sales == Sales\n",
      "Corp Accounting == Corp Accounting\n",
      "Fund Accounting == Fund Accounting\n",
      "Compliance == Compliance\n",
      "Investment == Investment\n",
      "Fund Accounting == Fund Accounting\n",
      "Investment == Investment\n",
      "Sales == Sales\n",
      "Investment == Investment\n",
      "Compliance == Compliance\n",
      "Administration == Administration\n",
      "Fund Accounting == Fund Accounting\n",
      "Fund Accounting == Fund Accounting\n",
      "Cosec == Cosec\n",
      "Cosec == Cosec\n",
      "Cosec == Cosec\n",
      "Corp Accounting == Corp Accounting\n",
      "Investment == Investment\n",
      "Investment == Investment\n",
      "Legal == Legal\n",
      "Trust == Trust\n",
      "Cosec == Cosec\n",
      "Sales == Sales\n",
      "Operations == Operations\n",
      "Sales == Sales\n",
      "Investment == Investment\n",
      "Operations == Operations\n",
      "Cosec == Cosec\n",
      "Fund Accounting == Fund Accounting\n",
      "Fund Accounting == Fund Accounting\n",
      "Investment == Investment\n",
      "Cosec == Cosec\n",
      "Corp Accounting == Corp Accounting\n",
      "Corp Accounting == Corp Accounting\n",
      "Fund Accounting == Fund Accounting\n",
      "Investment == Investment\n",
      "Trust == Trust\n",
      "Fund Accounting == Fund Accounting\n",
      "Trust == Trust\n",
      "Fund Accounting == Fund Accounting\n",
      "Investment == Investment\n",
      "Corp Accounting == Corp Accounting\n",
      "Operations == Operations\n",
      "Cosec == Cosec\n",
      "Fund Accounting == Fund Accounting\n",
      "Sales == Sales\n",
      "Investment == Investment\n",
      "Fund Accounting == Fund Accounting\n",
      "Fund Accounting == Fund Accounting\n",
      "Trust == Trust\n",
      "Fund Accounting == Fund Accounting\n",
      "Fund Accounting == Fund Accounting\n",
      "Investment == Investment\n",
      "Fund Accounting == Fund Accounting\n",
      "Investment == Investment\n",
      "Corp Accounting == Corp Accounting\n",
      "Cosec == Cosec\n",
      "Fund Accounting == Fund Accounting\n",
      "Investment == Investment\n",
      "Fund Accounting == Fund Accounting\n",
      "Fund Accounting == Fund Accounting\n",
      "Cosec == Cosec\n",
      "Fund Accounting == Fund Accounting\n",
      "Operations == Operations\n",
      "Investment == Investment\n",
      "114\n",
      "===\n",
      "Corp Accounting != Sales\n",
      "Sales != Fund Accounting\n",
      "Operations != Fund Accounting\n",
      "Cosec != Trust\n",
      "Administration != Trust\n",
      "Fund Accounting != Operations\n",
      "Fund Accounting != Sales\n",
      "Corp Accounting != Fund Accounting\n",
      "Fund Accounting != Investment\n",
      "Cosec != Corp Accounting\n",
      "Cosec != Trust\n",
      "Corp Accounting != Fund Accounting\n",
      "Fund Accounting != Trust\n",
      "Investment != Sales\n",
      "Sales != Corp Accounting\n",
      "Corp Accounting != Fund Accounting\n",
      "Corp Accounting != Operations\n",
      "Fund Accounting != Corp Accounting\n",
      "Fund Accounting != Operations\n",
      "Trust != Fund Accounting\n",
      "Fund Accounting != Operations\n",
      "Fund Accounting != Investment\n",
      "Operations != Corp Accounting\n",
      "Corp Accounting != Operations\n",
      "Corp Accounting != Fund Accounting\n",
      "Fund Accounting != Corp Accounting\n",
      "Corp Accounting != Fund Accounting\n",
      "Fund Accounting != Compliance\n",
      "Operations != Corp Accounting\n",
      "Cosec != Fund Accounting\n",
      "Sales != Fund Accounting\n",
      "Operations != Sales\n",
      "Corp Accounting != Legal\n",
      "Cosec != Administration\n",
      "Cosec != Corp Accounting\n",
      "Compliance != Investor Relations\n",
      "Investment != Sales\n",
      "Corp Accounting != Audit\n",
      "Sales != Fund Accounting\n",
      "Fund Accounting != Audit\n",
      "Investment != Operations\n",
      "Fund Accounting != Operations\n",
      "Sales != Operations\n",
      "Operations != Investor Relations\n",
      "Corp Accounting != Trust\n",
      "Operations != Sales\n",
      "Fund Accounting != Trust\n",
      "Sales != Administration\n",
      "Sales != Investor Relations\n",
      "Corp Accounting != Cosec\n",
      "Investment != Corp Accounting\n",
      "Fund Accounting != Compliance\n",
      "Corp Accounting != Investment\n",
      "Administration != Cosec\n",
      "Strategy != Compliance\n",
      "Fund Accounting != Operations\n",
      "Fund Accounting != Operations\n",
      "Corp Accounting != Cosec\n",
      "Operations != Fund Accounting\n",
      "Fund Accounting != Trust\n",
      "Trust != Legal\n",
      "61\n"
     ]
    }
   ],
   "source": [
    "count1 = 0\n",
    "for index in range(len(y_pred)):\n",
    "    if list(y_pred)[index] == list(ntest.Category)[index]:\n",
    "        print(list(y_pred)[index], \"==\", list(ntest.Category)[index])\n",
    "        count1 += 1\n",
    "print(count1)\n",
    "print(\"===\")\n",
    "count2 = 0\n",
    "for index in range(len(y_pred)):\n",
    "    if list(y_pred)[index] != list(ntest.Category)[index]:\n",
    "        print(list(y_pred)[index], \"!=\", list(ntest.Category)[index])\n",
    "        count2 += 1\n",
    "print(count2)"
   ]
  },
  {
   "cell_type": "code",
   "execution_count": 16,
   "metadata": {},
   "outputs": [
    {
     "data": {
      "text/plain": [
       "0.6514285714285715"
      ]
     },
     "execution_count": 16,
     "metadata": {},
     "output_type": "execute_result"
    }
   ],
   "source": [
    "count1 / len(y_pred)"
   ]
  },
  {
   "cell_type": "code",
   "execution_count": 17,
   "metadata": {},
   "outputs": [
    {
     "data": {
      "text/plain": [
       "<sklearn.metrics._plot.confusion_matrix.ConfusionMatrixDisplay at 0x1cf12e17460>"
      ]
     },
     "metadata": {},
     "output_type": "display_data"
    },
    {
     "data": {
      "image/png": "[encoded data removed]",
      "text/plain": [
       "<Figure size 432x288 with 2 Axes>"
      ]
     },
     "metadata": {
      "needs_background": "light"
     },
     "output_type": "display_data"
    }
   ],
   "source": [
    "display(metrics.plot_confusion_matrix(clf, Xtest_array, ntest.Category))"
   ]
  },
  {
   "cell_type": "code",
   "execution_count": null,
   "metadata": {},
   "outputs": [],
   "source": []
  }
 ],
 "metadata": {
  "kernelspec": {
   "display_name": "Python 3",
   "language": "python",
   "name": "python3"
  },
  "language_info": {
   "codemirror_mode": {
    "name": "ipython",
    "version": 3
   },
   "file_extension": ".py",
   "mimetype": "text/x-python",
   "name": "python",
   "nbconvert_exporter": "python",
   "pygments_lexer": "ipython3",
   "version": "3.8.3"
  }
 },
 "nbformat": 4,
 "nbformat_minor": 4
}
